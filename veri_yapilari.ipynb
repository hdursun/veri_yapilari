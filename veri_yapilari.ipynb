{
 "cells": [
  {
   "cell_type": "code",
   "execution_count": null,
   "metadata": {},
   "outputs": [],
   "source": [
    "gunler = {\n",
    "        \"1\": \"pazartesi\",\n",
    "        \"2\": \"sali\",\n",
    "        \"3\": \"carsamba\",\n",
    "        \"4\": \"persembe\",\n",
    "        \"5\": \"cuma\",\n",
    "        \"6\": \"cumartesi\",\n",
    "        \"7\": \"pazar\"\n",
    "}\n",
    "\n",
    "print(gunler)"
   ]
  },
  {
   "cell_type": "code",
   "execution_count": null,
   "metadata": {},
   "outputs": [],
   "source": [
    "gun_sil = input('Silmek İstediğiniz Günleri Birleşik Olarak Yazınız : ')\n",
    "print(gun_sil)\n",
    "for sil in gun_sil:\n",
    "    del gunler[sil]\n",
    "print(gunler)"
   ]
  },
  {
   "cell_type": "code",
   "execution_count": 3,
   "metadata": {},
   "outputs": [
    {
     "name": "stdout",
     "output_type": "stream",
     "text": [
      "[['Ocak', 31], ['Şubat', 28], ['Mart', 31], ['Nisan', 30], ['Mayıs', 31], ['Haziran', 30], ['Temmuz', 31], ['Ağustos', 31], ['Eylül', 30], ['Ekim', 31], ['Kasım', 30], ['Aralık', 31]]\n"
     ]
    }
   ],
   "source": [
    "aylar = [['Ocak',31],['Şubat',28],['Mart',31],['Nisan',30],['Mayıs',31],['Haziran',30],['Temmuz',31], \n",
    "         ['Ağustos',31],['Eylül',30],['Ekim',31],['Kasım',30],['Aralık',31]]\n",
    "print(aylar)"
   ]
  },
  {
   "cell_type": "code",
   "execution_count": 20,
   "metadata": {},
   "outputs": [
    {
     "name": "stdout",
     "output_type": "stream",
     "text": [
      "92\n"
     ]
    }
   ],
   "source": [
    "ilkbahar = [['Mart', 31], ['Nisan', 30], ['Mayıs', 31]]\n",
    "yaz = [['Haziran', 30], ['Temmuz', 31], ['Ağustos', 31]]\n",
    "sonbahar = [['Eylül', 30], ['Ekim', 31], ['Kasım', 30]]\n",
    "kış = [['Aralık',31], ['Ocak',31],['Şubat',28]]\n",
    "\n",
    "toplam = 0\n",
    "\n",
    "for ay in yaz:\n",
    "    toplam  = toplam + ay[1]\n",
    "        \n",
    "print(toplam)\n"
   ]
  }
 ],
 "metadata": {
  "kernelspec": {
   "display_name": "Python 3",
   "language": "python",
   "name": "python3"
  },
  "language_info": {
   "codemirror_mode": {
    "name": "ipython",
    "version": 3
   },
   "file_extension": ".py",
   "mimetype": "text/x-python",
   "name": "python",
   "nbconvert_exporter": "python",
   "pygments_lexer": "ipython3",
   "version": "3.8.1"
  }
 },
 "nbformat": 4,
 "nbformat_minor": 4
}
